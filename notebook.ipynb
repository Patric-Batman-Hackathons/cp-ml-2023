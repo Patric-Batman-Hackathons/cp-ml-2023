{
 "cells": [
  {
   "cell_type": "markdown",
   "id": "79c1a7a6-b35b-4419-a11b-6d618c8ac305",
   "metadata": {},
   "source": [
    "# Unarchiving"
   ]
  },
  {
   "cell_type": "code",
   "execution_count": null,
   "id": "9c531faf-d60f-423d-9de4-52722d0f1a44",
   "metadata": {
    "tags": []
   },
   "outputs": [],
   "source": [
    "import zipfile"
   ]
  },
  {
   "cell_type": "code",
   "execution_count": 4,
   "id": "4789f843-e4dd-4dbf-b44f-e5a090640866",
   "metadata": {
    "execution": {
     "iopub.execute_input": "2023-11-25T09:17:23.778174Z",
     "iopub.status.busy": "2023-11-25T09:17:23.777354Z",
     "iopub.status.idle": "2023-11-25T09:17:23.902336Z",
     "shell.execute_reply": "2023-11-25T09:17:23.901612Z",
     "shell.execute_reply.started": "2023-11-25T09:17:23.778129Z"
    }
   },
   "outputs": [],
   "source": [
    "with zipfile.ZipFile('/home/jupyter/datasphere/project/airs.zip', 'r') as zip_arch:\n",
    "    zip_arch.extractall('/home/jupyter/datasphere/project/GeoSeg')"
   ]
  },
  {
   "cell_type": "code",
   "execution_count": 12,
   "id": "8a1d51fc-590f-4bcf-9bc3-09a5b042d43e",
   "metadata": {
    "execution": {
     "iopub.execute_input": "2023-11-25T10:00:28.981097Z",
     "iopub.status.busy": "2023-11-25T10:00:28.980441Z",
     "iopub.status.idle": "2023-11-25T10:06:00.428884Z",
     "shell.execute_reply": "2023-11-25T10:06:00.428148Z",
     "shell.execute_reply.started": "2023-11-25T10:00:28.981054Z"
    },
    "tags": []
   },
   "outputs": [],
   "source": [
    "with zipfile.ZipFile('/home/jupyter/datasphere/s3/datasets-lepyoshik/Train.zip', 'r') as zip_arch:\n",
    "    zip_arch.extractall('/home/jupyter/datasphere/project/data/LoveDA')"
   ]
  },
  {
   "cell_type": "code",
   "execution_count": 13,
   "id": "acb0430d-b196-4bfa-81a5-a205fd6db887",
   "metadata": {
    "execution": {
     "iopub.execute_input": "2023-11-25T10:07:06.308125Z",
     "iopub.status.busy": "2023-11-25T10:07:06.307270Z",
     "iopub.status.idle": "2023-11-25T10:10:11.890583Z",
     "shell.execute_reply": "2023-11-25T10:10:11.889898Z",
     "shell.execute_reply.started": "2023-11-25T10:07:06.308077Z"
    }
   },
   "outputs": [],
   "source": [
    "with zipfile.ZipFile('/home/jupyter/datasphere/s3/datasets-lepyoshik/Val.zip', 'r') as zip_arch:\n",
    "    zip_arch.extractall('/home/jupyter/datasphere/project/data/LoveDA')"
   ]
  },
  {
   "cell_type": "code",
   "execution_count": 10,
   "id": "6b2ab653-4357-4483-9231-a9e2eccd2567",
   "metadata": {
    "execution": {
     "iopub.execute_input": "2023-11-25T09:54:19.434975Z",
     "iopub.status.busy": "2023-11-25T09:54:19.434467Z",
     "iopub.status.idle": "2023-11-25T09:56:53.339678Z",
     "shell.execute_reply": "2023-11-25T09:56:53.338997Z",
     "shell.execute_reply.started": "2023-11-25T09:54:19.434932Z"
    }
   },
   "outputs": [],
   "source": [
    "with zipfile.ZipFile('/home/jupyter/datasphere/s3/datasets-lepyoshik/Test.zip', 'r') as zip_arch:\n",
    "    zip_arch.extractall('/home/jupyter/datasphere/project/data/LoveDA')"
   ]
  },
  {
   "cell_type": "code",
   "execution_count": null,
   "id": "f69aebc1-a28f-4096-97ef-2ff47d106324",
   "metadata": {},
   "outputs": [],
   "source": [
    "with zipfile.ZipFile('/home/jupyter/datasphere/s3/datasets-lepyoshik/Rural.zip', 'r') as zip_arch:\n",
    "    zip_arch.extractall('/home/jupyter/datasphere/project/data/LoveDA/train_val')"
   ]
  },
  {
   "cell_type": "code",
   "execution_count": null,
   "id": "cc687f03-d9fe-4aa2-930f-9c49278587b4",
   "metadata": {},
   "outputs": [],
   "source": [
    "with zipfile.ZipFile('/home/jupyter/datasphere/s3/datasets-lepyoshik/Urban.zip', 'r') as zip_arch:\n",
    "    zip_arch.extractall('/home/jupyter/datasphere/project/data/LoveDA/train_val')"
   ]
  },
  {
   "cell_type": "markdown",
   "id": "b7909f55-6451-4ad1-a149-b55ca100c2d1",
   "metadata": {
    "jp-MarkdownHeadingCollapsed": true,
    "tags": []
   },
   "source": [
    "# Installations"
   ]
  },
  {
   "cell_type": "code",
   "execution_count": 9,
   "id": "c6e25897-d40b-4c2e-9653-2952edb42ba2",
   "metadata": {
    "execution": {
     "iopub.execute_input": "2023-11-25T09:29:09.790058Z",
     "iopub.status.busy": "2023-11-25T09:29:09.789156Z",
     "iopub.status.idle": "2023-11-25T09:29:18.069703Z",
     "shell.execute_reply": "2023-11-25T09:29:18.068921Z",
     "shell.execute_reply.started": "2023-11-25T09:29:09.790012Z"
    },
    "tags": []
   },
   "outputs": [
    {
     "name": "stdout",
     "output_type": "stream",
     "text": [
      "Defaulting to user installation because normal site-packages is not writeable\n",
      "Requirement already satisfied: timm in /home/jupyter/.local/lib/python3.10/site-packages (from -r GeoSeg/requirements.txt (line 1)) (0.9.12)\n",
      "Requirement already satisfied: catalyst==20.09 in /home/jupyter/.local/lib/python3.10/site-packages (from -r GeoSeg/requirements.txt (line 2)) (20.9)\n",
      "Requirement already satisfied: lightning in /home/jupyter/.local/lib/python3.10/site-packages (from -r GeoSeg/requirements.txt (line 3)) (2.1.2)\n",
      "Requirement already satisfied: albumentations in /usr/local/lib/python3.10/dist-packages (from -r GeoSeg/requirements.txt (line 4)) (1.2.1)\n",
      "Requirement already satisfied: ttach in /home/jupyter/.local/lib/python3.10/site-packages (from -r GeoSeg/requirements.txt (line 5)) (0.0.3)\n",
      "Requirement already satisfied: numpy in /usr/local/lib/python3.10/dist-packages (from -r GeoSeg/requirements.txt (line 6)) (1.22.4)\n",
      "Requirement already satisfied: tqdm in /usr/local/lib/python3.10/dist-packages (from -r GeoSeg/requirements.txt (line 7)) (4.65.0)\n",
      "Requirement already satisfied: opencv-python in /usr/local/lib/python3.10/dist-packages (from -r GeoSeg/requirements.txt (line 8)) (4.7.0.72)\n",
      "Requirement already satisfied: scipy in /usr/local/lib/python3.10/dist-packages (from -r GeoSeg/requirements.txt (line 9)) (1.10.1)\n",
      "Requirement already satisfied: matplotlib in /usr/local/lib/python3.10/dist-packages (from -r GeoSeg/requirements.txt (line 10)) (3.7.1)\n",
      "Requirement already satisfied: einops in /home/jupyter/.local/lib/python3.10/site-packages (from -r GeoSeg/requirements.txt (line 11)) (0.7.0)\n",
      "Requirement already satisfied: addict in /home/jupyter/.local/lib/python3.10/site-packages (from -r GeoSeg/requirements.txt (line 12)) (2.4.0)\n",
      "Requirement already satisfied: torch>=1.1.0 in /usr/local/lib/python3.10/dist-packages (from catalyst==20.09->-r GeoSeg/requirements.txt (line 2)) (2.0.1+cu118)\n",
      "Requirement already satisfied: PyYAML in /usr/local/lib/python3.10/dist-packages (from catalyst==20.09->-r GeoSeg/requirements.txt (line 2)) (6.0.1)\n",
      "Requirement already satisfied: packaging in /kernel/lib/python3.10/site-packages (from catalyst==20.09->-r GeoSeg/requirements.txt (line 2)) (23.2)\n",
      "Requirement already satisfied: deprecation in /home/jupyter/.local/lib/python3.10/site-packages (from catalyst==20.09->-r GeoSeg/requirements.txt (line 2)) (2.1.0)\n",
      "Collecting ipython (from catalyst==20.09->-r GeoSeg/requirements.txt (line 2))\n",
      "  Using cached ipython-7.13.0-py3-none-any.whl (780 kB)\n",
      "Requirement already satisfied: tensorboard>=1.14.0 in /usr/local/lib/python3.10/dist-packages (from catalyst==20.09->-r GeoSeg/requirements.txt (line 2)) (2.12.3)\n",
      "Requirement already satisfied: tensorboardX in /home/jupyter/.local/lib/python3.10/site-packages (from catalyst==20.09->-r GeoSeg/requirements.txt (line 2)) (2.6.2.2)\n",
      "Requirement already satisfied: plotly>=4.1.0 in /usr/local/lib/python3.10/dist-packages (from catalyst==20.09->-r GeoSeg/requirements.txt (line 2)) (5.13.1)\n",
      "Requirement already satisfied: pandas>=0.22 in /usr/local/lib/python3.10/dist-packages (from catalyst==20.09->-r GeoSeg/requirements.txt (line 2)) (1.5.3)\n",
      "Requirement already satisfied: scikit-learn>=0.20 in /usr/local/lib/python3.10/dist-packages (from catalyst==20.09->-r GeoSeg/requirements.txt (line 2)) (1.2.2)\n",
      "Requirement already satisfied: GitPython>=3.1.1 in /usr/local/lib/python3.10/dist-packages (from catalyst==20.09->-r GeoSeg/requirements.txt (line 2)) (3.1.32)\n",
      "Requirement already satisfied: torchvision in /usr/local/lib/python3.10/dist-packages (from timm->-r GeoSeg/requirements.txt (line 1)) (0.15.2+cu118)\n",
      "Requirement already satisfied: huggingface-hub in /home/jupyter/.local/lib/python3.10/site-packages (from timm->-r GeoSeg/requirements.txt (line 1)) (0.19.4)\n",
      "Requirement already satisfied: safetensors in /home/jupyter/.local/lib/python3.10/site-packages (from timm->-r GeoSeg/requirements.txt (line 1)) (0.4.0)\n",
      "Requirement already satisfied: fsspec[http]<2025.0,>2021.06.0 in /usr/local/lib/python3.10/dist-packages (from lightning->-r GeoSeg/requirements.txt (line 3)) (2023.6.0)\n",
      "Requirement already satisfied: lightning-utilities<2.0,>=0.8.0 in /home/jupyter/.local/lib/python3.10/site-packages (from lightning->-r GeoSeg/requirements.txt (line 3)) (0.10.0)\n",
      "Requirement already satisfied: torchmetrics<3.0,>=0.7.0 in /home/jupyter/.local/lib/python3.10/site-packages (from lightning->-r GeoSeg/requirements.txt (line 3)) (1.2.0)\n",
      "Requirement already satisfied: typing-extensions<6.0,>=4.0.0 in /kernel/lib/python3.10/site-packages (from lightning->-r GeoSeg/requirements.txt (line 3)) (4.8.0)\n",
      "Requirement already satisfied: pytorch-lightning in /home/jupyter/.local/lib/python3.10/site-packages (from lightning->-r GeoSeg/requirements.txt (line 3)) (2.1.2)\n",
      "Requirement already satisfied: scikit-image>=0.16.1 in /usr/local/lib/python3.10/dist-packages (from albumentations->-r GeoSeg/requirements.txt (line 4)) (0.19.3)\n",
      "Requirement already satisfied: qudida>=0.0.4 in /usr/local/lib/python3.10/dist-packages (from albumentations->-r GeoSeg/requirements.txt (line 4)) (0.0.4)\n",
      "Requirement already satisfied: opencv-python-headless>=4.1.1 in /usr/local/lib/python3.10/dist-packages (from albumentations->-r GeoSeg/requirements.txt (line 4)) (4.8.0.74)\n",
      "Requirement already satisfied: contourpy>=1.0.1 in /kernel/lib/python3.10/site-packages (from matplotlib->-r GeoSeg/requirements.txt (line 10)) (1.2.0)\n",
      "Requirement already satisfied: cycler>=0.10 in /kernel/lib/python3.10/site-packages (from matplotlib->-r GeoSeg/requirements.txt (line 10)) (0.12.1)\n",
      "Requirement already satisfied: fonttools>=4.22.0 in /kernel/lib/python3.10/site-packages (from matplotlib->-r GeoSeg/requirements.txt (line 10)) (4.44.0)\n",
      "Requirement already satisfied: kiwisolver>=1.0.1 in /kernel/lib/python3.10/site-packages (from matplotlib->-r GeoSeg/requirements.txt (line 10)) (1.4.5)\n",
      "Requirement already satisfied: pillow>=6.2.0 in /kernel/lib/python3.10/site-packages (from matplotlib->-r GeoSeg/requirements.txt (line 10)) (10.1.0)\n",
      "Requirement already satisfied: pyparsing>=2.3.1 in /kernel/lib/python3.10/site-packages (from matplotlib->-r GeoSeg/requirements.txt (line 10)) (2.4.7)\n",
      "Requirement already satisfied: python-dateutil>=2.7 in /kernel/lib/python3.10/site-packages (from matplotlib->-r GeoSeg/requirements.txt (line 10)) (2.8.2)\n",
      "Requirement already satisfied: requests in /home/jupyter/.local/lib/python3.10/site-packages (from fsspec[http]<2025.0,>2021.06.0->lightning->-r GeoSeg/requirements.txt (line 3)) (2.28.1)\n",
      "Requirement already satisfied: aiohttp!=4.0.0a0,!=4.0.0a1 in /usr/local/lib/python3.10/dist-packages (from fsspec[http]<2025.0,>2021.06.0->lightning->-r GeoSeg/requirements.txt (line 3)) (3.8.5)\n",
      "Requirement already satisfied: gitdb<5,>=4.0.1 in /usr/local/lib/python3.10/dist-packages (from GitPython>=3.1.1->catalyst==20.09->-r GeoSeg/requirements.txt (line 2)) (4.0.10)\n",
      "Requirement already satisfied: setuptools in /kernel/lib/python3.10/site-packages (from lightning-utilities<2.0,>=0.8.0->lightning->-r GeoSeg/requirements.txt (line 3)) (51.0.0)\n",
      "Requirement already satisfied: pytz>=2020.1 in /usr/local/lib/python3.10/dist-packages (from pandas>=0.22->catalyst==20.09->-r GeoSeg/requirements.txt (line 2)) (2022.7.1)\n",
      "Requirement already satisfied: tenacity>=6.2.0 in /usr/local/lib/python3.10/dist-packages (from plotly>=4.1.0->catalyst==20.09->-r GeoSeg/requirements.txt (line 2)) (8.2.2)\n",
      "Requirement already satisfied: six>=1.5 in /kernel/lib/python3.10/site-packages (from python-dateutil>=2.7->matplotlib->-r GeoSeg/requirements.txt (line 10)) (1.16.0)\n",
      "Requirement already satisfied: networkx>=2.2 in /usr/local/lib/python3.10/dist-packages (from scikit-image>=0.16.1->albumentations->-r GeoSeg/requirements.txt (line 4)) (3.1)\n",
      "Requirement already satisfied: imageio>=2.4.1 in /usr/local/lib/python3.10/dist-packages (from scikit-image>=0.16.1->albumentations->-r GeoSeg/requirements.txt (line 4)) (2.25.1)\n",
      "Requirement already satisfied: tifffile>=2019.7.26 in /usr/local/lib/python3.10/dist-packages (from scikit-image>=0.16.1->albumentations->-r GeoSeg/requirements.txt (line 4)) (2023.7.18)\n",
      "Requirement already satisfied: PyWavelets>=1.1.1 in /usr/local/lib/python3.10/dist-packages (from scikit-image>=0.16.1->albumentations->-r GeoSeg/requirements.txt (line 4)) (1.4.1)\n",
      "Requirement already satisfied: joblib>=1.1.1 in /usr/local/lib/python3.10/dist-packages (from scikit-learn>=0.20->catalyst==20.09->-r GeoSeg/requirements.txt (line 2)) (1.3.1)\n",
      "Requirement already satisfied: threadpoolctl>=2.0.0 in /usr/local/lib/python3.10/dist-packages (from scikit-learn>=0.20->catalyst==20.09->-r GeoSeg/requirements.txt (line 2)) (3.2.0)\n",
      "Requirement already satisfied: absl-py>=0.4 in /usr/local/lib/python3.10/dist-packages (from tensorboard>=1.14.0->catalyst==20.09->-r GeoSeg/requirements.txt (line 2)) (1.4.0)\n",
      "Requirement already satisfied: grpcio>=1.48.2 in /usr/local/lib/python3.10/dist-packages (from tensorboard>=1.14.0->catalyst==20.09->-r GeoSeg/requirements.txt (line 2)) (1.56.2)\n",
      "Requirement already satisfied: google-auth<3,>=1.6.3 in /usr/local/lib/python3.10/dist-packages (from tensorboard>=1.14.0->catalyst==20.09->-r GeoSeg/requirements.txt (line 2)) (2.17.3)\n",
      "Requirement already satisfied: google-auth-oauthlib<1.1,>=0.5 in /usr/local/lib/python3.10/dist-packages (from tensorboard>=1.14.0->catalyst==20.09->-r GeoSeg/requirements.txt (line 2)) (1.0.0)\n",
      "Requirement already satisfied: markdown>=2.6.8 in /usr/local/lib/python3.10/dist-packages (from tensorboard>=1.14.0->catalyst==20.09->-r GeoSeg/requirements.txt (line 2)) (3.4.4)\n",
      "Requirement already satisfied: protobuf>=3.19.6 in /usr/local/lib/python3.10/dist-packages (from tensorboard>=1.14.0->catalyst==20.09->-r GeoSeg/requirements.txt (line 2)) (3.20.3)\n",
      "Requirement already satisfied: tensorboard-data-server<0.8.0,>=0.7.0 in /usr/local/lib/python3.10/dist-packages (from tensorboard>=1.14.0->catalyst==20.09->-r GeoSeg/requirements.txt (line 2)) (0.7.1)\n",
      "Requirement already satisfied: werkzeug>=1.0.1 in /usr/local/lib/python3.10/dist-packages (from tensorboard>=1.14.0->catalyst==20.09->-r GeoSeg/requirements.txt (line 2)) (2.3.6)\n",
      "Requirement already satisfied: wheel>=0.26 in /usr/local/lib/python3.10/dist-packages (from tensorboard>=1.14.0->catalyst==20.09->-r GeoSeg/requirements.txt (line 2)) (0.41.1)\n",
      "Requirement already satisfied: filelock in /usr/local/lib/python3.10/dist-packages (from torch>=1.1.0->catalyst==20.09->-r GeoSeg/requirements.txt (line 2)) (3.12.2)\n",
      "Requirement already satisfied: sympy in /usr/local/lib/python3.10/dist-packages (from torch>=1.1.0->catalyst==20.09->-r GeoSeg/requirements.txt (line 2)) (1.11.1)\n",
      "Requirement already satisfied: jinja2 in /kernel/lib/python3.10/site-packages (from torch>=1.1.0->catalyst==20.09->-r GeoSeg/requirements.txt (line 2)) (3.1.2)\n",
      "Requirement already satisfied: triton==2.0.0 in /usr/local/lib/python3.10/dist-packages (from torch>=1.1.0->catalyst==20.09->-r GeoSeg/requirements.txt (line 2)) (2.0.0)\n",
      "Requirement already satisfied: cmake in /usr/local/lib/python3.10/dist-packages (from triton==2.0.0->torch>=1.1.0->catalyst==20.09->-r GeoSeg/requirements.txt (line 2)) (3.25.2)\n",
      "Requirement already satisfied: lit in /usr/local/lib/python3.10/dist-packages (from triton==2.0.0->torch>=1.1.0->catalyst==20.09->-r GeoSeg/requirements.txt (line 2)) (16.0.6)\n",
      "Requirement already satisfied: jedi>=0.10 in /kernel/lib/python3.10/site-packages (from ipython->catalyst==20.09->-r GeoSeg/requirements.txt (line 2)) (0.17.2)\n",
      "Requirement already satisfied: decorator in /kernel/lib/python3.10/site-packages (from ipython->catalyst==20.09->-r GeoSeg/requirements.txt (line 2)) (5.1.1)\n",
      "Requirement already satisfied: pickleshare in /kernel/lib/python3.10/site-packages (from ipython->catalyst==20.09->-r GeoSeg/requirements.txt (line 2)) (0.7.5)\n",
      "Requirement already satisfied: traitlets>=4.2 in /kernel/lib/python3.10/site-packages (from ipython->catalyst==20.09->-r GeoSeg/requirements.txt (line 2)) (5.13.0)\n",
      "Requirement already satisfied: prompt-toolkit!=3.0.0,!=3.0.1,<3.1.0,>=2.0.0 in /kernel/lib/python3.10/site-packages (from ipython->catalyst==20.09->-r GeoSeg/requirements.txt (line 2)) (3.0.39)\n",
      "Requirement already satisfied: pygments in /kernel/lib/python3.10/site-packages (from ipython->catalyst==20.09->-r GeoSeg/requirements.txt (line 2)) (2.16.1)\n",
      "Requirement already satisfied: backcall in /kernel/lib/python3.10/site-packages (from ipython->catalyst==20.09->-r GeoSeg/requirements.txt (line 2)) (0.2.0)\n",
      "Requirement already satisfied: pexpect in /kernel/lib/python3.10/site-packages (from ipython->catalyst==20.09->-r GeoSeg/requirements.txt (line 2)) (4.8.0)\n",
      "Requirement already satisfied: attrs>=17.3.0 in /kernel/lib/python3.10/site-packages (from aiohttp!=4.0.0a0,!=4.0.0a1->fsspec[http]<2025.0,>2021.06.0->lightning->-r GeoSeg/requirements.txt (line 3)) (23.1.0)\n",
      "Requirement already satisfied: charset-normalizer<4.0,>=2.0 in /kernel/lib/python3.10/site-packages (from aiohttp!=4.0.0a0,!=4.0.0a1->fsspec[http]<2025.0,>2021.06.0->lightning->-r GeoSeg/requirements.txt (line 3)) (3.3.2)\n",
      "Requirement already satisfied: multidict<7.0,>=4.5 in /usr/local/lib/python3.10/dist-packages (from aiohttp!=4.0.0a0,!=4.0.0a1->fsspec[http]<2025.0,>2021.06.0->lightning->-r GeoSeg/requirements.txt (line 3)) (6.0.4)\n",
      "Requirement already satisfied: async-timeout<5.0,>=4.0.0a3 in /usr/local/lib/python3.10/dist-packages (from aiohttp!=4.0.0a0,!=4.0.0a1->fsspec[http]<2025.0,>2021.06.0->lightning->-r GeoSeg/requirements.txt (line 3)) (4.0.2)\n",
      "Requirement already satisfied: yarl<2.0,>=1.0 in /usr/local/lib/python3.10/dist-packages (from aiohttp!=4.0.0a0,!=4.0.0a1->fsspec[http]<2025.0,>2021.06.0->lightning->-r GeoSeg/requirements.txt (line 3)) (1.9.2)\n",
      "Requirement already satisfied: frozenlist>=1.1.1 in /usr/local/lib/python3.10/dist-packages (from aiohttp!=4.0.0a0,!=4.0.0a1->fsspec[http]<2025.0,>2021.06.0->lightning->-r GeoSeg/requirements.txt (line 3)) (1.4.0)\n",
      "Requirement already satisfied: aiosignal>=1.1.2 in /usr/local/lib/python3.10/dist-packages (from aiohttp!=4.0.0a0,!=4.0.0a1->fsspec[http]<2025.0,>2021.06.0->lightning->-r GeoSeg/requirements.txt (line 3)) (1.3.1)\n",
      "Requirement already satisfied: smmap<6,>=3.0.1 in /usr/local/lib/python3.10/dist-packages (from gitdb<5,>=4.0.1->GitPython>=3.1.1->catalyst==20.09->-r GeoSeg/requirements.txt (line 2)) (5.0.0)\n",
      "Requirement already satisfied: cachetools<6.0,>=2.0.0 in /usr/local/lib/python3.10/dist-packages (from google-auth<3,>=1.6.3->tensorboard>=1.14.0->catalyst==20.09->-r GeoSeg/requirements.txt (line 2)) (5.3.1)\n",
      "Requirement already satisfied: pyasn1-modules>=0.2.1 in /usr/local/lib/python3.10/dist-packages (from google-auth<3,>=1.6.3->tensorboard>=1.14.0->catalyst==20.09->-r GeoSeg/requirements.txt (line 2)) (0.3.0)\n",
      "Requirement already satisfied: rsa<5,>=3.1.4 in /usr/local/lib/python3.10/dist-packages (from google-auth<3,>=1.6.3->tensorboard>=1.14.0->catalyst==20.09->-r GeoSeg/requirements.txt (line 2)) (4.9)\n",
      "Requirement already satisfied: requests-oauthlib>=0.7.0 in /usr/local/lib/python3.10/dist-packages (from google-auth-oauthlib<1.1,>=0.5->tensorboard>=1.14.0->catalyst==20.09->-r GeoSeg/requirements.txt (line 2)) (1.3.1)\n",
      "Requirement already satisfied: parso<0.8.0,>=0.7.0 in /kernel/lib/python3.10/site-packages (from jedi>=0.10->ipython->catalyst==20.09->-r GeoSeg/requirements.txt (line 2)) (0.7.1)\n",
      "Requirement already satisfied: wcwidth in /kernel/lib/python3.10/site-packages (from prompt-toolkit!=3.0.0,!=3.0.1,<3.1.0,>=2.0.0->ipython->catalyst==20.09->-r GeoSeg/requirements.txt (line 2)) (0.2.9)\n",
      "Collecting charset-normalizer<4.0,>=2.0 (from aiohttp!=4.0.0a0,!=4.0.0a1->fsspec[http]<2025.0,>2021.06.0->lightning->-r GeoSeg/requirements.txt (line 3))\n",
      "  Using cached charset_normalizer-2.1.1-py3-none-any.whl (39 kB)\n",
      "Requirement already satisfied: idna<4,>=2.5 in /kernel/lib/python3.10/site-packages (from requests->fsspec[http]<2025.0,>2021.06.0->lightning->-r GeoSeg/requirements.txt (line 3)) (3.4)\n",
      "Collecting urllib3<1.27,>=1.21.1 (from requests->fsspec[http]<2025.0,>2021.06.0->lightning->-r GeoSeg/requirements.txt (line 3))\n",
      "  Obtaining dependency information for urllib3<1.27,>=1.21.1 from https://files.pythonhosted.org/packages/b0/53/aa91e163dcfd1e5b82d8a890ecf13314e3e149c05270cc644581f77f17fd/urllib3-1.26.18-py2.py3-none-any.whl.metadata\n",
      "  Using cached urllib3-1.26.18-py2.py3-none-any.whl.metadata (48 kB)\n",
      "Requirement already satisfied: certifi>=2017.4.17 in /kernel/lib/python3.10/site-packages (from requests->fsspec[http]<2025.0,>2021.06.0->lightning->-r GeoSeg/requirements.txt (line 3)) (2023.7.22)\n",
      "Requirement already satisfied: MarkupSafe>=2.1.1 in /kernel/lib/python3.10/site-packages (from werkzeug>=1.0.1->tensorboard>=1.14.0->catalyst==20.09->-r GeoSeg/requirements.txt (line 2)) (2.1.3)\n",
      "Requirement already satisfied: ptyprocess>=0.5 in /kernel/lib/python3.10/site-packages (from pexpect->ipython->catalyst==20.09->-r GeoSeg/requirements.txt (line 2)) (0.7.0)\n",
      "Requirement already satisfied: mpmath>=0.19 in /usr/local/lib/python3.10/dist-packages (from sympy->torch>=1.1.0->catalyst==20.09->-r GeoSeg/requirements.txt (line 2)) (1.3.0)\n",
      "Requirement already satisfied: pyasn1<0.6.0,>=0.4.6 in /usr/local/lib/python3.10/dist-packages (from pyasn1-modules>=0.2.1->google-auth<3,>=1.6.3->tensorboard>=1.14.0->catalyst==20.09->-r GeoSeg/requirements.txt (line 2)) (0.5.0)\n",
      "Requirement already satisfied: oauthlib>=3.0.0 in /usr/local/lib/python3.10/dist-packages (from requests-oauthlib>=0.7.0->google-auth-oauthlib<1.1,>=0.5->tensorboard>=1.14.0->catalyst==20.09->-r GeoSeg/requirements.txt (line 2)) (3.2.2)\n",
      "Using cached urllib3-1.26.18-py2.py3-none-any.whl (143 kB)\n",
      "Installing collected packages: urllib3, charset-normalizer, ipython\n",
      "\u001b[33m  WARNING: The script normalizer is installed in '/home/jupyter/.local/bin' which is not on PATH.\n",
      "  Consider adding this directory to PATH or, if you prefer to suppress this warning, use --no-warn-script-location.\u001b[0m\u001b[33m\n",
      "\u001b[0m\u001b[33m  WARNING: The scripts iptest, iptest3, ipython and ipython3 are installed in '/home/jupyter/.local/bin' which is not on PATH.\n",
      "  Consider adding this directory to PATH or, if you prefer to suppress this warning, use --no-warn-script-location.\u001b[0m\u001b[33m\n",
      "\u001b[0m\u001b[31mERROR: pip's dependency resolver does not currently take into account all the packages that are installed. This behaviour is the source of the following dependency conflicts.\n",
      "ml-kernel 0.0.1 requires requests>=2.31.0, but you have requests 2.28.1 which is incompatible.\n",
      "dvc 2.58.2 requires psutil>=5.8, but you have psutil 5.7.3 which is incompatible.\n",
      "moviepy 1.0.3 requires decorator<5.0,>=4.0.2, but you have decorator 5.1.1 which is incompatible.\u001b[0m\u001b[31m\n",
      "\u001b[0mSuccessfully installed charset-normalizer-2.0.12 ipython-7.13.0 urllib3-1.26.18\n",
      "\n",
      "\u001b[1m[\u001b[0m\u001b[34;49mnotice\u001b[0m\u001b[1;39;49m]\u001b[0m\u001b[39;49m A new release of pip is available: \u001b[0m\u001b[31;49m23.2.1\u001b[0m\u001b[39;49m -> \u001b[0m\u001b[32;49m23.3.1\u001b[0m\n",
      "\u001b[1m[\u001b[0m\u001b[34;49mnotice\u001b[0m\u001b[1;39;49m]\u001b[0m\u001b[39;49m To update, run: \u001b[0m\u001b[32;49mpython3 -m pip install --upgrade pip\u001b[0m\n"
     ]
    }
   ],
   "source": [
    "%pip install -r GeoSeg/requirements.txt"
   ]
  },
  {
   "cell_type": "markdown",
   "id": "25bcc59f-20a2-4086-b88d-287b1e22c7db",
   "metadata": {},
   "source": [
    "# Data Preproccesing"
   ]
  },
  {
   "cell_type": "code",
   "execution_count": null,
   "id": "32c8d369-9674-47eb-92ba-55ff43dd7641",
   "metadata": {},
   "outputs": [],
   "source": [
    "%run GeoSeg/tools/loveda_mask_convert.py --mask-dir data/LoveDA/Train/Rural/masks_png --output-mask-dir data/LoveDA/Train/Rural/masks_png_convert"
   ]
  },
  {
   "cell_type": "code",
   "execution_count": null,
   "id": "d858ce53-0e8c-47c9-a279-b94c8b94defa",
   "metadata": {},
   "outputs": [],
   "source": [
    "%run GeoSeg/tools/loveda_mask_convert.py --mask-dir data/LoveDA/Train/Urban/masks_png --output-mask-dir data/LoveDA/Train/Urban/masks_png_convert"
   ]
  },
  {
   "cell_type": "code",
   "execution_count": null,
   "id": "380b464a-64b9-4641-bfc9-b378617270c6",
   "metadata": {},
   "outputs": [],
   "source": [
    "%run GeoSeg/tools/loveda_mask_convert.py --mask-dir data/LoveDA/Val/Rural/masks_png --output-mask-dir data/LoveDA/Val/Rural/masks_png_convert"
   ]
  },
  {
   "cell_type": "code",
   "execution_count": null,
   "id": "21cbdb0c-6c22-4f64-9ee5-2bf6278f3dbf",
   "metadata": {},
   "outputs": [],
   "source": [
    "%run GeoSeg/tools/loveda_mask_convert.py --mask-dir data/LoveDA/Val/Urban/masks_png --output-mask-dir data/LoveDA/Val/Urban/masks_png_convert"
   ]
  },
  {
   "cell_type": "markdown",
   "id": "e6cc140b-a83f-4d68-b6a1-53cd23842a9b",
   "metadata": {},
   "source": [
    "# Training"
   ]
  },
  {
   "cell_type": "code",
   "execution_count": null,
   "id": "893501d4-3040-443f-ac15-a06d58545f7d",
   "metadata": {},
   "outputs": [],
   "source": [
    "%run GeoSeg/train_supervision.py -c GeoSeg/config/loveda/unetformer.py"
   ]
  },
  {
   "cell_type": "code",
   "execution_count": null,
   "id": "e3933835-8e8f-4025-8ddc-0643669cb707",
   "metadata": {},
   "outputs": [],
   "source": [
    "print(1)"
   ]
  },
  {
   "cell_type": "code",
   "execution_count": null,
   "id": "388b0f1c-b974-4310-9c9a-e1daa1c7761a",
   "metadata": {},
   "outputs": [],
   "source": []
  }
 ],
 "metadata": {
  "kernelspec": {
   "display_name": "DataSphere Kernel",
   "language": "python",
   "name": "python3"
  },
  "language_info": {
   "codemirror_mode": {
    "name": "ipython",
    "version": 3
   },
   "file_extension": ".py",
   "mimetype": "text/x-python",
   "name": "python",
   "nbconvert_exporter": "python",
   "pygments_lexer": "ipython3",
   "version": "3.7.7"
  }
 },
 "nbformat": 4,
 "nbformat_minor": 5
}
